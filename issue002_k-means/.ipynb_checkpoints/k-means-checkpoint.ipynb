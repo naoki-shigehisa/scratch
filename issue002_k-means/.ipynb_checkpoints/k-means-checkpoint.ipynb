{
 "cells": [
  {
   "cell_type": "markdown",
   "metadata": {},
   "source": [
    "## モジュールのインポートとデータのロード"
   ]
  },
  {
   "cell_type": "code",
   "execution_count": 1,
   "metadata": {},
   "outputs": [
    {
     "name": "stdout",
     "output_type": "stream",
     "text": [
      "(150, 4)\n",
      "(150,)\n"
     ]
    }
   ],
   "source": [
    "import numpy as np\n",
    "from sklearn.datasets import load_iris\n",
    "iris_dataset = load_iris()\n",
    "X = iris_dataset[\"data\"]\n",
    "y = iris_dataset[\"target\"]\n",
    "\n",
    "print(X.shape)\n",
    "print(y.shape)"
   ]
  },
  {
   "cell_type": "markdown",
   "metadata": {},
   "source": [
    "## k-meansによるクラスタリングを行う関数"
   ]
  },
  {
   "cell_type": "code",
   "execution_count": 2,
   "metadata": {},
   "outputs": [],
   "source": [
    "def k_means(X_list, k=3, max_repetition=100):\n",
    "    \"\"\"\"\"\"\"\"\"\n",
    "    k-meansによる非階層的クラスタリングを行う関数\n",
    "    \n",
    "    Params\n",
    "    ---------\n",
    "    X_list : np.array\n",
    "        特徴量の配列\n",
    "    k : int\n",
    "        クラスタ数\n",
    "    max_repetition : int\n",
    "        繰り返しの最大数\n",
    "        \n",
    "    Returns\n",
    "    ---------\n",
    "    cluster_list : np.array\n",
    "        クラスタリング結果\n",
    "    \"\"\"\"\"\"\"\"\"    \n",
    "    # クラスタの初期化\n",
    "    cluster_list = np.random.randint(0, k, len(X_list))\n",
    "    \n",
    "    for i in range(max_repetition):\n",
    "        # クラスタ毎の特徴量の合計値を計算\n",
    "        cluster_sum = np.array([[0] * len(X_list[0])] * k)\n",
    "        for X, cluster in zip(X_list, cluster_list):\n",
    "            cluster_sum[cluster] = cluster_sum[cluster] + X\n",
    "        \n",
    "        # クラスタのweightを計算\n",
    "        cluster_weight = []\n",
    "        for j in range(k):\n",
    "            cluster_weight.append(cluster_sum[j] / sum([1 for cluster in cluster_list if cluster == j]))\n",
    "        cluster_weight = np.array(cluster_weight)\n",
    "\n",
    "        # 各点を割り当て直す\n",
    "        new_cluster_list = []\n",
    "        for j in range(len(cluster_list)):\n",
    "            min_mse = 999999\n",
    "            min_cluster = -1\n",
    "            for cluster, weight in enumerate(cluster_weight):\n",
    "                mse = sum((X_list[j] - weight) ** 2) / len(X_list[j])\n",
    "                if mse < min_mse:\n",
    "                    min_mse = mse\n",
    "                    min_cluster = cluster\n",
    "            new_cluster_list.append(min_cluster)\n",
    "        new_cluster_list = np.array(new_cluster_list)\n",
    "        \n",
    "        # クラスタが変化しなければ終了\n",
    "        if False not in (cluster_list == new_cluster_list):\n",
    "            break\n",
    "        else:\n",
    "            cluster_list = new_cluster_list\n",
    "            \n",
    "    return cluster_list"
   ]
  },
  {
   "cell_type": "markdown",
   "metadata": {},
   "source": [
    "## 結果の確認"
   ]
  },
  {
   "cell_type": "code",
   "execution_count": 3,
   "metadata": {},
   "outputs": [
    {
     "data": {
      "text/plain": [
       "array([0, 0, 0, 0, 0, 0, 0, 0, 0, 0, 0, 0, 0, 0, 0, 0, 0, 0, 0, 0, 0, 0,\n",
       "       0, 0, 0, 0, 0, 0, 0, 0, 0, 0, 0, 0, 0, 0, 0, 0, 0, 0, 0, 0, 0, 0,\n",
       "       0, 0, 0, 0, 0, 0, 1, 1, 1, 1, 1, 1, 1, 2, 1, 1, 2, 1, 1, 1, 1, 1,\n",
       "       1, 1, 1, 1, 1, 1, 1, 1, 1, 1, 1, 1, 1, 1, 1, 1, 1, 1, 1, 1, 1, 1,\n",
       "       1, 1, 1, 1, 1, 2, 1, 1, 1, 1, 2, 1, 1, 1, 1, 1, 1, 1, 1, 1, 1, 1,\n",
       "       1, 1, 1, 1, 1, 1, 1, 1, 1, 1, 1, 1, 1, 1, 1, 1, 1, 1, 1, 1, 1, 1,\n",
       "       1, 1, 1, 1, 1, 1, 1, 1, 1, 1, 1, 1, 1, 1, 1, 1, 1, 1])"
      ]
     },
     "execution_count": 3,
     "metadata": {},
     "output_type": "execute_result"
    }
   ],
   "source": [
    "k_means(X)"
   ]
  }
 ],
 "metadata": {
  "kernelspec": {
   "display_name": "Python 3",
   "language": "python",
   "name": "python3"
  },
  "language_info": {
   "codemirror_mode": {
    "name": "ipython",
    "version": 3
   },
   "file_extension": ".py",
   "mimetype": "text/x-python",
   "name": "python",
   "nbconvert_exporter": "python",
   "pygments_lexer": "ipython3",
   "version": "3.7.1"
  }
 },
 "nbformat": 4,
 "nbformat_minor": 2
}
